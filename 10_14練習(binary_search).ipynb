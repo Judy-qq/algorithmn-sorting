{
  "nbformat": 4,
  "nbformat_minor": 0,
  "metadata": {
    "colab": {
      "name": "10/14練習(binary_search).ipynb",
      "provenance": [],
      "authorship_tag": "ABX9TyOsBEB9YhAvhHHFWHfrs3Q9",
      "include_colab_link": true
    },
    "kernelspec": {
      "name": "python3",
      "display_name": "Python 3"
    }
  },
  "cells": [
    {
      "cell_type": "markdown",
      "metadata": {
        "id": "view-in-github",
        "colab_type": "text"
      },
      "source": [
        "<a href=\"https://colab.research.google.com/github/Judy-qq/algorithmn-sorting/blob/master/10_14%E7%B7%B4%E7%BF%92(binary_search).ipynb\" target=\"_parent\"><img src=\"https://colab.research.google.com/assets/colab-badge.svg\" alt=\"Open In Colab\"/></a>"
      ]
    },
    {
      "cell_type": "code",
      "metadata": {
        "id": "9quDrpJe9P94",
        "outputId": "4f6a6056-d831-4d53-b683-c3e8102cb10a",
        "colab": {
          "base_uri": "https://localhost:8080/",
          "height": 34
        }
      },
      "source": [
        "def binarySearch (arr,l,r,x):\n",
        "  if r >= l:\n",
        "    mid =l +(r-l) // 2\n",
        "    if arr[mid] == x:\n",
        "      return mid\n",
        "    elif arr[mid] > x:\n",
        "      return binarySearch(arr,l,mid-1,x)\n",
        "    else:\n",
        "      return binarySearch(arr,l,mid+1,r,x)\n",
        "  else:\n",
        "    return -1\n",
        "arr=[5,8,9,15,30]\n",
        "x=9\n",
        "#Function call\n",
        "result=binarySearch(arr,0,len(arr)-1,x)\n",
        "if result != -1:\n",
        "  print(\"元素在索引%d\"%result)\n",
        "else:\n",
        "  print(\"陣列中找不到該元素\")"
      ],
      "execution_count": 6,
      "outputs": [
        {
          "output_type": "stream",
          "text": [
            "元素在索引2\n"
          ],
          "name": "stdout"
        }
      ]
    },
    {
      "cell_type": "code",
      "metadata": {
        "id": "eFhFjouWFyDf",
        "outputId": "43adc160-5755-4310-d324-578ebbe351ed",
        "colab": {
          "base_uri": "https://localhost:8080/",
          "height": 101
        }
      },
      "source": [
        "def binarySearch (arr,l,r,x):\n",
        "  if r >= l:\n",
        "    mid =l +(r-l) // 2\n",
        "    if arr[mid] == x:\n",
        "      return mid\n",
        "    elif arr[mid] > x:\n",
        "      return binarySearch(arr,l,mid-1,x)\n",
        "    else:\n",
        "      return binarySearch(arr,mid+1,r,x)\n",
        "  else:\n",
        "    return -1\n",
        "#arr=[5,12,9,15,7]\n",
        "x=5\n",
        "\n",
        "arr=[int(n) for n in input('輸入5個數字').split()]\n",
        "print(arr)\n",
        "\n",
        "arr_list=list(map(int,list(arr)))\n",
        "print(arr_list)\n",
        "\n",
        "arr_list.sort()\n",
        "print('排序後為:%s'%arr_list)\n",
        "\n",
        "#Function call\n",
        "result=binarySearch(arr_list,0,len(arr_list)-1,x) #如果是result=binarySearch(arr_list,0,len(arr_list)-1,x)，結果會寫在前一個索引\n",
        "if result != -1:\n",
        "  print(\"元素在索引%d\"%result)\n",
        "else:\n",
        "  print(\"陣列中找不到該元素\")"
      ],
      "execution_count": 23,
      "outputs": [
        {
          "output_type": "stream",
          "text": [
            "輸入5個數字5 4 1 2 3\n",
            "[5, 4, 1, 2, 3]\n",
            "[5, 4, 1, 2, 3]\n",
            "排序後為:[1, 2, 3, 4, 5]\n",
            "元素在索引4\n"
          ],
          "name": "stdout"
        }
      ]
    }
  ]
}