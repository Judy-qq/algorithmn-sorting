{
  "nbformat": 4,
  "nbformat_minor": 0,
  "metadata": {
    "colab": {
      "name": "9/30_Homework",
      "provenance": [],
      "authorship_tag": "ABX9TyNxk71fZhbv8A6A5OgkllYQ",
      "include_colab_link": true
    },
    "kernelspec": {
      "name": "python3",
      "display_name": "Python 3"
    }
  },
  "cells": [
    {
      "cell_type": "markdown",
      "metadata": {
        "id": "view-in-github",
        "colab_type": "text"
      },
      "source": [
        "<a href=\"https://colab.research.google.com/github/Judy-qq/algorithmn-sorting/blob/master/9_30_Homework.ipynb\" target=\"_parent\"><img src=\"https://colab.research.google.com/assets/colab-badge.svg\" alt=\"Open In Colab\"/></a>"
      ]
    },
    {
      "cell_type": "code",
      "metadata": {
        "id": "eM9QsHBTrmmW",
        "outputId": "053d33f4-74ed-4610-c474-e086d82baa32",
        "colab": {
          "base_uri": "https://localhost:8080/",
          "height": 84
        }
      },
      "source": [
        "def Bubble_Sort(datas):\n",
        "    for i in range(1, len(datas)): # \n",
        "        for j in range(len(datas)-i):   # \n",
        "            if datas[j] > datas[j+1]:   # \n",
        "                datas[j], datas[j+1] = datas[j+1], datas[j]\n",
        "    return datas\n",
        "'''\n",
        "if __name__ == '__main__':\n",
        "    import random\n",
        "    a = list(range(6))\n",
        "    random.shuffle(a)\n",
        "    print(a)\n",
        "    a = Bubble_Sort(a)\n",
        "    print(a)\n",
        "'''\n",
        "if __name__ == '__main__':\n",
        "  num=[int(n) for n in input('輸入6個數字').split()]#讓使用者輸入6個數字並用split讓使用者可以用空格隔開\n",
        "  print(num)#確認用的輸出\n",
        "  num_list=list(map(int,list(num)))#將字符串列表用map函數從字符轉換成數字\n",
        "  print(num_list)#輸出轉換後的列表\n",
        "  num_list.sort()#將數字排序\n",
        "  print('排序後為:%s'%num_list)#輸出排序後的結果"
      ],
      "execution_count": 7,
      "outputs": [
        {
          "output_type": "stream",
          "text": [
            "輸入6個數字2 8 9 4 5 3\n",
            "[2, 8, 9, 4, 5, 3]\n",
            "[2, 8, 9, 4, 5, 3]\n",
            "排序後為:[2, 3, 4, 5, 8, 9]\n"
          ],
          "name": "stdout"
        }
      ]
    }
  ]
}