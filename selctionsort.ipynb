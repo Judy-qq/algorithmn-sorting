{
  "nbformat": 4,
  "nbformat_minor": 0,
  "metadata": {
    "colab": {
      "name": "selctionsort.ipynb",
      "provenance": [],
      "collapsed_sections": [],
      "include_colab_link": true
    },
    "kernelspec": {
      "name": "python3",
      "display_name": "Python 3"
    }
  },
  "cells": [
    {
      "cell_type": "markdown",
      "metadata": {
        "id": "view-in-github",
        "colab_type": "text"
      },
      "source": [
        "<a href=\"https://colab.research.google.com/github/Judy-qq/algorithmn-sorting/blob/master/selctionsort.ipynb\" target=\"_parent\"><img src=\"https://colab.research.google.com/assets/colab-badge.svg\" alt=\"Open In Colab\"/></a>"
      ]
    },
    {
      "cell_type": "markdown",
      "metadata": {
        "id": "W-Z0kMaDLJOp"
      },
      "source": [
        "Selection sort (選擇排序)"
      ]
    },
    {
      "cell_type": "code",
      "metadata": {
        "id": "8tM3sv79HQ_V",
        "outputId": "c14b68de-7bff-487d-8fcf-47b77b08ba43",
        "colab": {
          "base_uri": "https://localhost:8080/",
          "height": 585
        }
      },
      "source": [
        "def Selction_Sort(datas):\n",
        "    for i in range(len(datas)-1):#n+1\n",
        "        min = i # 第一次選從第一個數開始,第二次從第二個數開始  #1\n",
        "        for j in range(i+1, len(datas)):    # 用記錄的max數與其他的比較 #n\n",
        "            if datas[j] < datas[min]:#n\n",
        "                min = j                      #1\n",
        "#[(n+1)*n*n]+1=n^3+n^2+1\n",
        "        datas[i], datas[min] = datas[min], datas[i]\n",
        " \n",
        "        print(datas)\n",
        "        print('---'*10)\n",
        "    return datas\n",
        " \n",
        " \n",
        "if __name__ == '__main__':\n",
        "    import random\n",
        "    a = list(range(16))\n",
        "    random.shuffle(a)\n",
        "    print(a)\n",
        "    a = Selction_Sort(a)\n",
        "    print(a)"
      ],
      "execution_count": 2,
      "outputs": [
        {
          "output_type": "stream",
          "text": [
            "[5, 3, 2, 6, 15, 1, 7, 12, 11, 0, 10, 9, 8, 13, 4, 14]\n",
            "[0, 3, 2, 6, 15, 1, 7, 12, 11, 5, 10, 9, 8, 13, 4, 14]\n",
            "------------------------------\n",
            "[0, 1, 2, 6, 15, 3, 7, 12, 11, 5, 10, 9, 8, 13, 4, 14]\n",
            "------------------------------\n",
            "[0, 1, 2, 6, 15, 3, 7, 12, 11, 5, 10, 9, 8, 13, 4, 14]\n",
            "------------------------------\n",
            "[0, 1, 2, 3, 15, 6, 7, 12, 11, 5, 10, 9, 8, 13, 4, 14]\n",
            "------------------------------\n",
            "[0, 1, 2, 3, 4, 6, 7, 12, 11, 5, 10, 9, 8, 13, 15, 14]\n",
            "------------------------------\n",
            "[0, 1, 2, 3, 4, 5, 7, 12, 11, 6, 10, 9, 8, 13, 15, 14]\n",
            "------------------------------\n",
            "[0, 1, 2, 3, 4, 5, 6, 12, 11, 7, 10, 9, 8, 13, 15, 14]\n",
            "------------------------------\n",
            "[0, 1, 2, 3, 4, 5, 6, 7, 11, 12, 10, 9, 8, 13, 15, 14]\n",
            "------------------------------\n",
            "[0, 1, 2, 3, 4, 5, 6, 7, 8, 12, 10, 9, 11, 13, 15, 14]\n",
            "------------------------------\n",
            "[0, 1, 2, 3, 4, 5, 6, 7, 8, 9, 10, 12, 11, 13, 15, 14]\n",
            "------------------------------\n",
            "[0, 1, 2, 3, 4, 5, 6, 7, 8, 9, 10, 12, 11, 13, 15, 14]\n",
            "------------------------------\n",
            "[0, 1, 2, 3, 4, 5, 6, 7, 8, 9, 10, 11, 12, 13, 15, 14]\n",
            "------------------------------\n",
            "[0, 1, 2, 3, 4, 5, 6, 7, 8, 9, 10, 11, 12, 13, 15, 14]\n",
            "------------------------------\n",
            "[0, 1, 2, 3, 4, 5, 6, 7, 8, 9, 10, 11, 12, 13, 15, 14]\n",
            "------------------------------\n",
            "[0, 1, 2, 3, 4, 5, 6, 7, 8, 9, 10, 11, 12, 13, 14, 15]\n",
            "------------------------------\n",
            "[0, 1, 2, 3, 4, 5, 6, 7, 8, 9, 10, 11, 12, 13, 14, 15]\n"
          ],
          "name": "stdout"
        }
      ]
    },
    {
      "cell_type": "markdown",
      "metadata": {
        "id": "MiWPt8bALDN5"
      },
      "source": [
        "請加入註解\n"
      ]
    }
  ]
}