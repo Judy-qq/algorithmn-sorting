{
  "nbformat": 4,
  "nbformat_minor": 0,
  "metadata": {
    "colab": {
      "name": "HashingSearch_10/21~10/27.ipynb",
      "provenance": [],
      "collapsed_sections": [],
      "authorship_tag": "ABX9TyNMlYgFq0UbRagJmg4CjRkd",
      "include_colab_link": true
    },
    "kernelspec": {
      "name": "python3",
      "display_name": "Python 3"
    }
  },
  "cells": [
    {
      "cell_type": "markdown",
      "metadata": {
        "id": "view-in-github",
        "colab_type": "text"
      },
      "source": [
        "<a href=\"https://colab.research.google.com/github/Judy-qq/algorithmn-sorting/blob/master/HashingSearch_10_21~10_27.ipynb\" target=\"_parent\"><img src=\"https://colab.research.google.com/assets/colab-badge.svg\" alt=\"Open In Colab\"/></a>"
      ]
    },
    {
      "cell_type": "code",
      "metadata": {
        "id": "cwmXHGatBIwP",
        "outputId": "431deb3c-14a4-4a08-f2a4-c6d84ec85032",
        "colab": {
          "base_uri": "https://localhost:8080/",
          "height": 218
        }
      },
      "source": [
        "import random   #線性探測法 10/21編輯\n",
        "\n",
        "INDEXBOX=10\n",
        "MAXUM=7\n",
        "\n",
        "def print_data(data,max_number):\n",
        "  print('\\t',end='')\n",
        "  for i in range(max_number):\n",
        "    print('[%2d]'%data[i],end='')\n",
        "  print()\n",
        "\n",
        "def creat_table(num,index):   #主要計算\n",
        "  tmp=num%MAXUM\n",
        "  while True:\n",
        "    if index[tmp]==-1:\n",
        "      index[tmp]=num\n",
        "      break\n",
        "    else:\n",
        "      tmp=(tmp+1)%INDEXBOX\n",
        "\n",
        "index=[None]*INDEXBOX\n",
        "data=[None]*MAXUM\n",
        "\n",
        "print('原始陣列值:')\n",
        "for i in range(MAXUM):\n",
        "  data[i]=random.randint(1,20)\n",
        "for i in range(INDEXBOX):\n",
        "  index[i]=-1\n",
        "print_data(data,MAXUM)\n",
        "\n",
        "print('雜湊表內容:')\n",
        "for i in range(MAXUM):\n",
        "  creat_table(data[i],index)\n",
        "  print(' %2d =>'%data[i],end='')\n",
        "  print_data(index,INDEXBOX)\n",
        "\n",
        "print('完成雜湊表:')\n",
        "print_data(index,INDEXBOX)"
      ],
      "execution_count": null,
      "outputs": [
        {
          "output_type": "stream",
          "text": [
            "原始陣列值:\n",
            "\t[19][13][14][13][ 5][10][ 7]\n",
            "雜湊表內容:\n",
            " 19 =>\t[-1][-1][-1][-1][-1][19][-1][-1][-1][-1]\n",
            " 13 =>\t[-1][-1][-1][-1][-1][19][13][-1][-1][-1]\n",
            " 14 =>\t[14][-1][-1][-1][-1][19][13][-1][-1][-1]\n",
            " 13 =>\t[14][-1][-1][-1][-1][19][13][13][-1][-1]\n",
            "  5 =>\t[14][-1][-1][-1][-1][19][13][13][ 5][-1]\n",
            " 10 =>\t[14][-1][-1][10][-1][19][13][13][ 5][-1]\n",
            "  7 =>\t[14][ 7][-1][10][-1][19][13][13][ 5][-1]\n",
            "完成雜湊表:\n",
            "\t[14][ 7][-1][10][-1][19][13][13][ 5][-1]\n"
          ],
          "name": "stdout"
        }
      ]
    },
    {
      "cell_type": "code",
      "metadata": {
        "id": "FM_xMwRhHbeP",
        "outputId": "167cfb0d-ff58-4869-ad53-6780bd57d4ca",
        "colab": {
          "base_uri": "https://localhost:8080/",
          "height": 218
        }
      },
      "source": [
        "import random   #平方探測法 10/21編輯\n",
        "#算手動輸入，去random\n",
        "INDEXBOX=10\n",
        "MAXUM=7\n",
        "\n",
        "def print_data(data,max_number):\n",
        "  print('\\t',end='')\n",
        "  for i in range(max_number):\n",
        "    print('[%2d]'%data[i],end='')\n",
        "  print()\n",
        "\n",
        "def creat_table(num,index):\n",
        "  tmp=num%MAXUM\n",
        "  while True:\n",
        "    if index[tmp]==-1:\n",
        "      index[tmp]=num\n",
        "      break\n",
        "    else:\n",
        "      tmp=(tmp+i**2)%MAXUM\n",
        "\n",
        "index=[None]*INDEXBOX\n",
        "data=[None]*MAXUM\n",
        "\n",
        "print('原始陣列值:')\n",
        "for i in range(MAXUM):\n",
        "  data[i]=random.randint(1,20)\n",
        "for i in range(INDEXBOX):\n",
        "  index[i]=-1\n",
        "print_data(data,MAXUM)\n",
        "\n",
        "print('雜湊表內容:')\n",
        "for i in range(MAXUM):\n",
        "  creat_table(data[i],index)\n",
        "  print(' %2d =>'%data[i],end='')\n",
        "  print_data(index,INDEXBOX)\n",
        "\n",
        "print('完成雜湊表:')\n",
        "print_data(index,INDEXBOX)"
      ],
      "execution_count": null,
      "outputs": [
        {
          "output_type": "stream",
          "text": [
            "原始陣列值:\n",
            "\t[20][ 7][ 5][15][16][ 9][12]\n",
            "雜湊表內容:\n",
            " 20 =>\t[-1][-1][-1][-1][-1][-1][20][-1][-1][-1]\n",
            "  7 =>\t[ 7][-1][-1][-1][-1][-1][20][-1][-1][-1]\n",
            "  5 =>\t[ 7][-1][-1][-1][-1][ 5][20][-1][-1][-1]\n",
            " 15 =>\t[ 7][15][-1][-1][-1][ 5][20][-1][-1][-1]\n",
            " 16 =>\t[ 7][15][16][-1][-1][ 5][20][-1][-1][-1]\n",
            "  9 =>\t[ 7][15][16][ 9][-1][ 5][20][-1][-1][-1]\n",
            " 12 =>\t[ 7][15][16][ 9][12][ 5][20][-1][-1][-1]\n",
            "完成雜湊表:\n",
            "\t[ 7][15][16][ 9][12][ 5][20][-1][-1][-1]\n"
          ],
          "name": "stdout"
        }
      ]
    },
    {
      "cell_type": "markdown",
      "metadata": {
        "id": "o__QPhrWQqeX"
      },
      "source": [
        "再雜湊是2n(看講義)"
      ]
    },
    {
      "cell_type": "code",
      "metadata": {
        "id": "iUIHMP4r84uh",
        "outputId": "4b35125c-518a-41f8-f5dc-55493652b0f6",
        "colab": {
          "base_uri": "https://localhost:8080/",
          "height": 218
        }
      },
      "source": [
        "import random   #再雜湊法 10/27編輯\n",
        "\n",
        "INDEXBOX=10\n",
        "MAXUM=7\n",
        "\n",
        "def print_data(data,max_number):\n",
        "  print('\\t',end='')\n",
        "  for i in range(max_number):\n",
        "    print('[%2d]'%data[i],end='')\n",
        "  print()\n",
        "\n",
        "def creat_table(num,index):\n",
        "  tmp=num%MAXUM\n",
        "  while True:\n",
        "    if index[tmp]==-1:\n",
        "      index[tmp]=num\n",
        "      break\n",
        "    elif index[tmp]!=-1:\n",
        "      tmp=(tmp+2)%MAXUM\n",
        "    elif index[tmp]!=-1:\n",
        "      tmp=(tmp**2)%MAXUM\n",
        "    else:\n",
        "      tmp=(tmp-7)%MAXUM\n",
        "\n",
        "index=[None]*INDEXBOX\n",
        "data=[None]*MAXUM\n",
        "\n",
        "print('原始陣列值:')\n",
        "for i in range(MAXUM):\n",
        "  data[i]=random.randint(1,20)\n",
        "for i in range(INDEXBOX):\n",
        "  index[i]=-1\n",
        "print_data(data,MAXUM)\n",
        "\n",
        "print('雜湊表內容:')\n",
        "for i in range(MAXUM):\n",
        "  creat_table(data[i],index)\n",
        "  print(' %2d =>'%data[i],end='')\n",
        "  print_data(index,INDEXBOX)\n",
        "\n",
        "print('完成雜湊表:')\n",
        "print_data(index,INDEXBOX)"
      ],
      "execution_count": 3,
      "outputs": [
        {
          "output_type": "stream",
          "text": [
            "原始陣列值:\n",
            "\t[15][16][18][13][ 5][15][ 1]\n",
            "雜湊表內容:\n",
            " 15 =>\t[-1][15][-1][-1][-1][-1][-1][-1][-1][-1]\n",
            " 16 =>\t[-1][15][16][-1][-1][-1][-1][-1][-1][-1]\n",
            " 18 =>\t[-1][15][16][-1][18][-1][-1][-1][-1][-1]\n",
            " 13 =>\t[-1][15][16][-1][18][-1][13][-1][-1][-1]\n",
            "  5 =>\t[-1][15][16][-1][18][ 5][13][-1][-1][-1]\n",
            " 15 =>\t[-1][15][16][15][18][ 5][13][-1][-1][-1]\n",
            "  1 =>\t[ 1][15][16][15][18][ 5][13][-1][-1][-1]\n",
            "完成雜湊表:\n",
            "\t[ 1][15][16][15][18][ 5][13][-1][-1][-1]\n"
          ],
          "name": "stdout"
        }
      ]
    }
  ]
}