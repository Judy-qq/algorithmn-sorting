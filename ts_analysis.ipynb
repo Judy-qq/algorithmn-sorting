{
  "nbformat": 4,
  "nbformat_minor": 0,
  "metadata": {
    "colab": {
      "name": "ts_analysis.ipynb",
      "provenance": [],
      "collapsed_sections": [],
      "authorship_tag": "ABX9TyOvtKbc82+NkbPGVQ1leb63",
      "include_colab_link": true
    },
    "kernelspec": {
      "name": "python3",
      "display_name": "Python 3"
    }
  },
  "cells": [
    {
      "cell_type": "markdown",
      "metadata": {
        "id": "view-in-github",
        "colab_type": "text"
      },
      "source": [
        "<a href=\"https://colab.research.google.com/github/Judy-qq/algorithmn-sorting/blob/master/ts_analysis.ipynb\" target=\"_parent\"><img src=\"https://colab.research.google.com/assets/colab-badge.svg\" alt=\"Open In Colab\"/></a>"
      ]
    },
    {
      "cell_type": "markdown",
      "metadata": {
        "id": "GA7a58ZSCyd2"
      },
      "source": [
        "判斷奇偶數(時間換空間v.s.空間換時間)"
      ]
    },
    {
      "cell_type": "code",
      "metadata": {
        "id": "iOUhG1ZvDCub",
        "outputId": "a2c36aa1-6115-4f9b-e8fa-c78c0babf76a",
        "colab": {
          "base_uri": "https://localhost:8080/"
        }
      },
      "source": [
        "#時間換空間\n",
        "while True:\n",
        "    try:\n",
        "        num=int(input('輸入一個整數：')) #判斷輸入是否為整數\n",
        "    except ValueError: #不是純數字需要重新輸入\n",
        "        print(\"輸入的不是整數！\")\n",
        "        continue\n",
        "    if num%2==0:\n",
        "        print('偶數')\n",
        "    else:\n",
        "        print('奇數')\n",
        "    break"
      ],
      "execution_count": 15,
      "outputs": [
        {
          "output_type": "stream",
          "text": [
            "輸入一個整數：12354894\n",
            "偶數\n"
          ],
          "name": "stdout"
        }
      ]
    },
    {
      "cell_type": "code",
      "metadata": {
        "id": "pD7uRbRYDQT-",
        "outputId": "3c152042-095e-4c37-dde1-f6228957a10f",
        "colab": {
          "base_uri": "https://localhost:8080/"
        }
      },
      "source": [
        "#空間換時間(0～10)\n",
        "while True:\n",
        "    try:\n",
        "      num=int(input('輸入一個1～10的整數：')) #判斷輸入是否為整數\n",
        "    except ValueError:        #不是純數字需要重新輸入\n",
        "        print(\"輸入的不是整數！\")\n",
        "        continue\n",
        "    if num==1:\n",
        "      print('%s是奇數'%num)\n",
        "    elif num==2:\n",
        "      print('%s是偶數'%num)\n",
        "    elif num==3:\n",
        "      print('%s是奇數'%num)\n",
        "    elif num==4:\n",
        "      print('%s是偶數'%num)\n",
        "    elif num==5:\n",
        "      print('%s是奇數'%num)\n",
        "    elif num==6:\n",
        "      print('%s是偶數'%num)\n",
        "    elif num==7:\n",
        "      print('%s是奇數'%num)\n",
        "    elif num==8:\n",
        "      print('%s是偶數'%num)\n",
        "    elif num==9:\n",
        "      print('%s是奇數'%num)\n",
        "    elif num==10:\n",
        "      print('%s是偶數'%num)\n",
        "    break"
      ],
      "execution_count": 21,
      "outputs": [
        {
          "output_type": "stream",
          "text": [
            "輸入一個1～10的整數：2\n",
            "2是偶數\n"
          ],
          "name": "stdout"
        }
      ]
    },
    {
      "cell_type": "markdown",
      "metadata": {
        "id": "KcZsFe8y_W67"
      },
      "source": [
        "輸入自動判斷閏年與否(時間換空間v.s.空間換時間)"
      ]
    },
    {
      "cell_type": "code",
      "metadata": {
        "id": "IKiU3LYH3YJL",
        "outputId": "66f5292b-5e25-4b26-8dfb-4d8ad287ee20",
        "colab": {
          "base_uri": "https://localhost:8080/"
        }
      },
      "source": [
        "year=eval(input(\"\"))  \n",
        "if (year%4)==0 and (year%100)!=0:\n",
        "    print('%d is a leap year.'%(year))\n",
        "elif (year%400)==0:\n",
        "    print('%d is a leap year.'%(year))\n",
        "else:\n",
        "    print('%d is not a leap year.'%(year))\n"
      ],
      "execution_count": null,
      "outputs": [
        {
          "output_type": "stream",
          "text": [
            "1904\n",
            "1904 is a leap year.\n"
          ],
          "name": "stdout"
        }
      ]
    },
    {
      "cell_type": "code",
      "metadata": {
        "id": "EkVDnYXy_fR_",
        "outputId": "aaf7b247-441a-4da7-a86e-e5e5f904287f",
        "colab": {
          "base_uri": "https://localhost:8080/"
        }
      },
      "source": [
        "def isLeapYear(n):      #空間換時間\n",
        "    year = int(n)\n",
        "    return (year % 400 == 0) or ((year % 100 != 0) and (year % 4 == 0))\n",
        "    \n",
        "\n",
        "ylist = [2000, 1999, 2001, 2004, 1900]\n",
        "\n",
        "xlist = [(x, isLeapYear(x)) for x in ylist]\n",
        "\n",
        "import calendar as cal\n",
        "xlist2 = [(x, cal.isleap(x)) for x in ylist]\n",
        "\n",
        "print(xlist)\n",
        "[(2000, True), (1999, False), (2001, False), (2004, True), (1900, False)]\n",
        "\n",
        "print(xlist2)\n",
        "[(2000, True), (1999, False), (2001, False), (2004, True), (1900, False)]"
      ],
      "execution_count": null,
      "outputs": [
        {
          "output_type": "stream",
          "text": [
            "[(2000, True), (1999, False), (2001, False), (2004, True), (1900, False)]\n",
            "[(2000, True), (1999, False), (2001, False), (2004, True), (1900, False)]\n"
          ],
          "name": "stdout"
        },
        {
          "output_type": "execute_result",
          "data": {
            "text/plain": [
              "[(2000, True), (1999, False), (2001, False), (2004, True), (1900, False)]"
            ]
          },
          "metadata": {
            "tags": []
          },
          "execution_count": 10
        }
      ]
    }
  ]
}