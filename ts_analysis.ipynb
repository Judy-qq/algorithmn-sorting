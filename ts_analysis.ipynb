{
  "nbformat": 4,
  "nbformat_minor": 0,
  "metadata": {
    "colab": {
      "name": "ts_analysis.ipynb",
      "provenance": [],
      "authorship_tag": "ABX9TyM4znYIcIQoo2bA/N9qd0b5",
      "include_colab_link": true
    },
    "kernelspec": {
      "name": "python3",
      "display_name": "Python 3"
    }
  },
  "cells": [
    {
      "cell_type": "markdown",
      "metadata": {
        "id": "view-in-github",
        "colab_type": "text"
      },
      "source": [
        "<a href=\"https://colab.research.google.com/github/Judy-qq/algorithmn-sorting/blob/master/ts_analysis.ipynb\" target=\"_parent\"><img src=\"https://colab.research.google.com/assets/colab-badge.svg\" alt=\"Open In Colab\"/></a>"
      ]
    },
    {
      "cell_type": "markdown",
      "metadata": {
        "id": "KcZsFe8y_W67"
      },
      "source": [
        "輸入自動判斷閏年與否(時間換空間v.s.空間換時間)"
      ]
    },
    {
      "cell_type": "code",
      "metadata": {
        "id": "IKiU3LYH3YJL",
        "outputId": "50e9a989-6f5a-4686-9a77-1b8cdca3a63c",
        "colab": {
          "base_uri": "https://localhost:8080/"
        }
      },
      "source": [
        "year=eval(input(\"\"))  \n",
        "if (year%4)==0 and (year%100)!=0:\n",
        "    print('%d is a leap year.'%(year))\n",
        "elif (year%400)==0:\n",
        "    print('%d is a leap year.'%(year))\n",
        "else:\n",
        "    print('%d is not a leap year.'%(year))\n"
      ],
      "execution_count": 8,
      "outputs": [
        {
          "output_type": "stream",
          "text": [
            "2225\n",
            "2225 is not a leap year.\n"
          ],
          "name": "stdout"
        }
      ]
    },
    {
      "cell_type": "code",
      "metadata": {
        "id": "EkVDnYXy_fR_",
        "outputId": "aaf7b247-441a-4da7-a86e-e5e5f904287f",
        "colab": {
          "base_uri": "https://localhost:8080/"
        }
      },
      "source": [
        "def isLeapYear(n):      #空間換時間\n",
        "    year = int(n)\n",
        "    return (year % 400 == 0) or ((year % 100 != 0) and (year % 4 == 0))\n",
        "    \n",
        "\n",
        "ylist = [2000, 1999, 2001, 2004, 1900]\n",
        "\n",
        "xlist = [(x, isLeapYear(x)) for x in ylist]\n",
        "\n",
        "import calendar as cal\n",
        "xlist2 = [(x, cal.isleap(x)) for x in ylist]\n",
        "\n",
        "print(xlist)\n",
        "[(2000, True), (1999, False), (2001, False), (2004, True), (1900, False)]\n",
        "\n",
        "print(xlist2)\n",
        "[(2000, True), (1999, False), (2001, False), (2004, True), (1900, False)]"
      ],
      "execution_count": 10,
      "outputs": [
        {
          "output_type": "stream",
          "text": [
            "[(2000, True), (1999, False), (2001, False), (2004, True), (1900, False)]\n",
            "[(2000, True), (1999, False), (2001, False), (2004, True), (1900, False)]\n"
          ],
          "name": "stdout"
        },
        {
          "output_type": "execute_result",
          "data": {
            "text/plain": [
              "[(2000, True), (1999, False), (2001, False), (2004, True), (1900, False)]"
            ]
          },
          "metadata": {
            "tags": []
          },
          "execution_count": 10
        }
      ]
    }
  ]
}