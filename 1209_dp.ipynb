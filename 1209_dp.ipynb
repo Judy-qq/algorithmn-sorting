{
  "nbformat": 4,
  "nbformat_minor": 0,
  "metadata": {
    "colab": {
      "name": "1209-dp.ipynb",
      "provenance": [],
      "collapsed_sections": [],
      "authorship_tag": "ABX9TyM89vXM3bm7xGPtGBLtd3zJ",
      "include_colab_link": true
    },
    "kernelspec": {
      "name": "python3",
      "display_name": "Python 3"
    }
  },
  "cells": [
    {
      "cell_type": "markdown",
      "metadata": {
        "id": "view-in-github",
        "colab_type": "text"
      },
      "source": [
        "<a href=\"https://colab.research.google.com/github/Judy-qq/algorithmn-sorting/blob/master/1209_dp.ipynb\" target=\"_parent\"><img src=\"https://colab.research.google.com/assets/colab-badge.svg\" alt=\"Open In Colab\"/></a>"
      ]
    },
    {
      "cell_type": "code",
      "metadata": {
        "colab": {
          "base_uri": "https://localhost:8080/"
        },
        "id": "JDkcCBy1WjJZ",
        "outputId": "f36e5d7b-6dde-490b-cb40-a5a79a941ced"
      },
      "source": [
        "#鐵條切割問題(dp)\r\n",
        "\r\n",
        "def BottomUpCutRod(p, n):\r\n",
        "  r = [0]*(n+1)\r\n",
        "  for i in range(1, n+1):\r\n",
        "    if n == 0:\r\n",
        "      return 0\r\n",
        "    q =0\r\n",
        "    for j in range(1, i+1):\r\n",
        "      q = max(q, p[j]+r[i-j])\r\n",
        "      r[i] = q\r\n",
        "  return r[n]         # r是價目表的陣列，r[n]是最大收益的計算結果\r\n",
        "\r\n",
        "L=int(input(\"輸入總長度：\"))   #自訂10以內的總長度\r\n",
        "p=[0,1,5,8,9,10,17,17,20,24,30] # 價格表，下標為對應的鋼條長度，如當鋼條長度為0時，p=0,即p[0]=0，p[2]=5\r\n",
        "print(\"最大收益：\",BottomUpCutRod(p, L))"
      ],
      "execution_count": 19,
      "outputs": [
        {
          "output_type": "stream",
          "text": [
            "輸入總長度：7\n",
            "最大收益： 18\n"
          ],
          "name": "stdout"
        }
      ]
    }
  ]
}