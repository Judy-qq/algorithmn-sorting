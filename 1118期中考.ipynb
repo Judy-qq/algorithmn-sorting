{
  "nbformat": 4,
  "nbformat_minor": 0,
  "metadata": {
    "colab": {
      "name": "1118期中考.ipynb",
      "provenance": [],
      "collapsed_sections": [],
      "authorship_tag": "ABX9TyOX49p/D/gVqx3h/Qh0dAUa",
      "include_colab_link": true
    },
    "kernelspec": {
      "name": "python3",
      "display_name": "Python 3"
    }
  },
  "cells": [
    {
      "cell_type": "markdown",
      "metadata": {
        "id": "view-in-github",
        "colab_type": "text"
      },
      "source": [
        "<a href=\"https://colab.research.google.com/github/Judy-qq/algorithmn-sorting/blob/master/1118%E6%9C%9F%E4%B8%AD%E8%80%83.ipynb\" target=\"_parent\"><img src=\"https://colab.research.google.com/assets/colab-badge.svg\" alt=\"Open In Colab\"/></a>"
      ]
    },
    {
      "cell_type": "code",
      "metadata": {
        "id": "_aT9ctk-jxDC",
        "colab": {
          "base_uri": "https://localhost:8080/"
        },
        "outputId": "02b67c24-bd7e-4a65-eed0-208bd4868b79"
      },
      "source": [
        "#選擇排序法\n",
        "def Selction_Sort(datas):\n",
        "  for i in range(len(datas)-1):\n",
        "    max = i                  # 第一次選從第一個數開始,第二次從第二個數開始  \n",
        "    for j in range(i+1, len(datas)):     # 用記錄的max數與其他的比較 \n",
        "      if datas[j] > datas[max]:\n",
        "        max = j                      \n",
        "\n",
        "    datas[i], datas[max] = datas[max], datas[i]\n",
        " \n",
        "    print('---'*15)\n",
        "    print(\"第%d次排序：\" % int(i+1),datas)        #加入文字，%d無法使用str，所以將i+1轉為int\n",
        "  return datas\n",
        "\n",
        "if __name__ == '__main__':\n",
        "  import random         #從list中隨機獲取8個元素，作為一個片段返回，所以數字會在1～100之間隨機抽取\n",
        "  list=[1,2,3,4,5,6,7,8,9,10,11,12,13,14,15,16,17,18,19,20,21,22,23,24,25,26,27,28,29,30,31,32,33,34,35,36,37,38,39,40,\n",
        "     41,42,43,44,45,46,47,48,49,50,51,52,53,54,55,56,57,58,59,60,61,62,63,64,65,66,67,68,69,70,71,72,73,74,75,76,77,78,79,80,\n",
        "     81,82,83,84,85,86,87,88,89,90,91,92,93,94,95,96,97,98,99,100]\n",
        "  pieces=random.sample(list,8)\n",
        "  print(\"原始數列： \",pieces)\n",
        "  Selction_Sort(pieces)\n",
        "  '''\n",
        "  for step in range(0,8):\n",
        "    step+=1\n",
        "    print(\"第%d次排序：\"%step,Selction_Sort(pieces))\n",
        "  '''"
      ],
      "execution_count": 25,
      "outputs": [
        {
          "output_type": "stream",
          "text": [
            "原始數列：  [55, 92, 98, 65, 37, 20, 53, 25]\n",
            "---------------------------------------------\n",
            "第1次排序： [98, 92, 55, 65, 37, 20, 53, 25]\n",
            "---------------------------------------------\n",
            "第2次排序： [98, 92, 55, 65, 37, 20, 53, 25]\n",
            "---------------------------------------------\n",
            "第3次排序： [98, 92, 65, 55, 37, 20, 53, 25]\n",
            "---------------------------------------------\n",
            "第4次排序： [98, 92, 65, 55, 37, 20, 53, 25]\n",
            "---------------------------------------------\n",
            "第5次排序： [98, 92, 65, 55, 53, 20, 37, 25]\n",
            "---------------------------------------------\n",
            "第6次排序： [98, 92, 65, 55, 53, 37, 20, 25]\n",
            "---------------------------------------------\n",
            "第7次排序： [98, 92, 65, 55, 53, 37, 25, 20]\n"
          ],
          "name": "stdout"
        }
      ]
    },
    {
      "cell_type": "code",
      "metadata": {
        "colab": {
          "base_uri": "https://localhost:8080/"
        },
        "id": "gIQpnfyoxCIB",
        "outputId": "61b8945b-122a-4027-d66d-cc0ffa468605"
      },
      "source": [
        "#插入排序法\n",
        "def Insertion_Sort(datas):\n",
        "  for i in range(1, len(datas)):\n",
        "    for j in range(i):\n",
        "      current = datas[i]\n",
        "      if current < datas[j]:\n",
        "        for k in range(i,j):\n",
        "          print(datas)     \n",
        "  return datas\n",
        "\n",
        "def insertionSort(arr):\n",
        "  for i in range(len(arr)):\n",
        "    preIndex = i-1\n",
        "    current = arr[i]\n",
        "    while preIndex >= 0 and arr[preIndex] > current:\n",
        "      arr[preIndex+1] = arr[preIndex]\n",
        "      preIndex-=1\n",
        "    arr[preIndex+1] = current\n",
        "    print(\"第%d次排序：\" % int(i+1),arr)     #加入文字，%d無法使用str，所以將i+1轉為int\n",
        "  return arr\n",
        "\n",
        "if __name__ == '__main__':\n",
        "  import random\n",
        "  '''\n",
        "  list = [1, 2, 3, 4, 5, 6, 7, 8, 9, 10]\n",
        "  slice = random.sample(list, 5)         #從list中隨機獲取5個元素，作為一個片段返回\n",
        "  print(slice)\n",
        "  print(list)\n",
        "  '''\n",
        "  #a = list(range(8))               #發現原本list只會把range內的數字列出，無法真正隨機產生數字\n",
        "  #random.shuffle(a)                #這行會打亂原本的list\n",
        "  #b = a.copy()\n",
        "  #arr = insertionSort(a)\n",
        "  #print('---'*10)\n",
        "  #Insertion_Sort(b)\n",
        "\n",
        "  #step=0\n",
        "                            #從list中隨機獲取8個元素，作為一個片段返回，所以數字會在1～100之間隨機抽取\n",
        "  list=[1,2,3,4,5,6,7,8,9,10,11,12,13,14,15,16,17,18,19,20,21,22,23,24,25,26,27,28,29,30,31,32,33,34,35,36,37,38,39,40,\n",
        "     41,42,43,44,45,46,47,48,49,50,51,52,53,54,55,56,57,58,59,60,61,62,63,64,65,66,67,68,69,70,71,72,73,74,75,76,77,78,79,80,\n",
        "     81,82,83,84,85,86,87,88,89,90,91,92,93,94,95,96,97,98,99,100]\n",
        "  pieces=random.sample(list,8)\n",
        "  print(\"原始數列： \",pieces)\n",
        "  insertionSort(pieces)\n",
        "  '''\n",
        "  for step in range(0,8):\n",
        "    step+=1\n",
        "    print('---'*15)\n",
        "    print(\"第%d次排序：\"%step,Insertion_Sort(pieces))\n",
        "  '''\n",
        "  #a = insertionSort(pieces)"
      ],
      "execution_count": 32,
      "outputs": [
        {
          "output_type": "stream",
          "text": [
            "原始數列：  [90, 59, 76, 55, 87, 5, 20, 23]\n",
            "第1次排序： [90, 59, 76, 55, 87, 5, 20, 23]\n",
            "第2次排序： [59, 90, 76, 55, 87, 5, 20, 23]\n",
            "第3次排序： [59, 76, 90, 55, 87, 5, 20, 23]\n",
            "第4次排序： [55, 59, 76, 90, 87, 5, 20, 23]\n",
            "第5次排序： [55, 59, 76, 87, 90, 5, 20, 23]\n",
            "第6次排序： [5, 55, 59, 76, 87, 90, 20, 23]\n",
            "第7次排序： [5, 20, 55, 59, 76, 87, 90, 23]\n",
            "第8次排序： [5, 20, 23, 55, 59, 76, 87, 90]\n"
          ],
          "name": "stdout"
        }
      ]
    }
  ]
}