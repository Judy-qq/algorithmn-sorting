{
  "nbformat": 4,
  "nbformat_minor": 0,
  "metadata": {
    "colab": {
      "name": "Insertion_Sort_10/6.ipynb",
      "provenance": [],
      "authorship_tag": "ABX9TyMC2i+U1LOrRGO6dTIY4IH8",
      "include_colab_link": true
    },
    "kernelspec": {
      "name": "python3",
      "display_name": "Python 3"
    }
  },
  "cells": [
    {
      "cell_type": "markdown",
      "metadata": {
        "id": "view-in-github",
        "colab_type": "text"
      },
      "source": [
        "<a href=\"https://colab.research.google.com/github/Judy-qq/algorithmn-sorting/blob/master/Insertion_Sort_10_6.ipynb\" target=\"_parent\"><img src=\"https://colab.research.google.com/assets/colab-badge.svg\" alt=\"Open In Colab\"/></a>"
      ]
    },
    {
      "cell_type": "code",
      "metadata": {
        "id": "kNr69Q_oTh2q",
        "outputId": "31277fcd-f1bf-4975-d1a9-348b3d987c58",
        "colab": {
          "base_uri": "https://localhost:8080/",
          "height": 328
        }
      },
      "source": [
        " def Insertion_Sort(datas):\n",
        "    for i in range(1, len(datas)):  #n-1\n",
        "        for j in range(i):          #n+1\n",
        "            current = datas[i]      #n\n",
        "            if current < datas[j]:  #n-1\n",
        "                for k in range(i,j):#n^2\n",
        "                  print(datas)      #1\n",
        "                                    #(n-1)*(n+1)*n+(n-1)*n^2+1=2n^3-n^2-n+1\n",
        "    return datas\n",
        " \n",
        " \n",
        "def insertionSort(arr):\n",
        "    for i in range(len(arr)):\n",
        "        preIndex = i-1\n",
        "        current = arr[i]\n",
        "        while preIndex >= 0 and arr[preIndex] > current:\n",
        "            arr[preIndex+1] = arr[preIndex]\n",
        "            preIndex-=1\n",
        "        arr[preIndex+1] = current\n",
        "        print(arr)\n",
        "    return arr\n",
        " \n",
        "if __name__ == '__main__':\n",
        "    import random\n",
        "    a = list(range(16))\n",
        "    random.shuffle(a)\n",
        "    b = a.copy()\n",
        " \n",
        "    arr = insertionSort(a)\n",
        "    print('---'*10)\n",
        "    Insertion_Sort(b)"
      ],
      "execution_count": 1,
      "outputs": [
        {
          "output_type": "stream",
          "text": [
            "[4, 11, 8, 3, 7, 5, 12, 15, 10, 1, 13, 2, 14, 0, 9, 6]\n",
            "[4, 11, 8, 3, 7, 5, 12, 15, 10, 1, 13, 2, 14, 0, 9, 6]\n",
            "[4, 8, 11, 3, 7, 5, 12, 15, 10, 1, 13, 2, 14, 0, 9, 6]\n",
            "[3, 4, 8, 11, 7, 5, 12, 15, 10, 1, 13, 2, 14, 0, 9, 6]\n",
            "[3, 4, 7, 8, 11, 5, 12, 15, 10, 1, 13, 2, 14, 0, 9, 6]\n",
            "[3, 4, 5, 7, 8, 11, 12, 15, 10, 1, 13, 2, 14, 0, 9, 6]\n",
            "[3, 4, 5, 7, 8, 11, 12, 15, 10, 1, 13, 2, 14, 0, 9, 6]\n",
            "[3, 4, 5, 7, 8, 11, 12, 15, 10, 1, 13, 2, 14, 0, 9, 6]\n",
            "[3, 4, 5, 7, 8, 10, 11, 12, 15, 1, 13, 2, 14, 0, 9, 6]\n",
            "[1, 3, 4, 5, 7, 8, 10, 11, 12, 15, 13, 2, 14, 0, 9, 6]\n",
            "[1, 3, 4, 5, 7, 8, 10, 11, 12, 13, 15, 2, 14, 0, 9, 6]\n",
            "[1, 2, 3, 4, 5, 7, 8, 10, 11, 12, 13, 15, 14, 0, 9, 6]\n",
            "[1, 2, 3, 4, 5, 7, 8, 10, 11, 12, 13, 14, 15, 0, 9, 6]\n",
            "[0, 1, 2, 3, 4, 5, 7, 8, 10, 11, 12, 13, 14, 15, 9, 6]\n",
            "[0, 1, 2, 3, 4, 5, 7, 8, 9, 10, 11, 12, 13, 14, 15, 6]\n",
            "[0, 1, 2, 3, 4, 5, 6, 7, 8, 9, 10, 11, 12, 13, 14, 15]\n",
            "------------------------------\n"
          ],
          "name": "stdout"
        }
      ]
    }
  ]
}