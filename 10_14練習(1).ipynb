{
  "nbformat": 4,
  "nbformat_minor": 0,
  "metadata": {
    "colab": {
      "name": "10/14練習(1).ipynb",
      "provenance": [],
      "authorship_tag": "ABX9TyPITfGw83Q3ECw/17DcF0D1",
      "include_colab_link": true
    },
    "kernelspec": {
      "name": "python3",
      "display_name": "Python 3"
    }
  },
  "cells": [
    {
      "cell_type": "markdown",
      "metadata": {
        "id": "view-in-github",
        "colab_type": "text"
      },
      "source": [
        "<a href=\"https://colab.research.google.com/github/Judy-qq/algorithmn-sorting/blob/master/10_14%E7%B7%B4%E7%BF%92(1).ipynb\" target=\"_parent\"><img src=\"https://colab.research.google.com/assets/colab-badge.svg\" alt=\"Open In Colab\"/></a>"
      ]
    },
    {
      "cell_type": "code",
      "metadata": {
        "id": "CWXSVohoxD8Q",
        "outputId": "1b98d5cc-c8d4-4d89-f7d4-2c02660aec69",
        "colab": {
          "base_uri": "https://localhost:8080/",
          "height": 151
        }
      },
      "source": [
        "data = [ 20, 31, 50, 17, 16, 36, 19, 8] #成功......嗎?\n",
        "def sequential_search(data,key):\n",
        "  for i in data:\n",
        "    if i == key :\n",
        "      print(\"找到了\")\n",
        "      \n",
        "    elif i != key :\n",
        "      print(\"找不到\")\n",
        "      \n",
        "sequential_search(data,17)"
      ],
      "execution_count": 11,
      "outputs": [
        {
          "output_type": "stream",
          "text": [
            "找不到\n",
            "找不到\n",
            "找不到\n",
            "找到了\n",
            "找不到\n",
            "找不到\n",
            "找不到\n",
            "找不到\n"
          ],
          "name": "stdout"
        }
      ]
    },
    {
      "cell_type": "code",
      "metadata": {
        "id": "3gANc5eC23t5",
        "outputId": "4a431532-0fac-4f00-8dc6-9ba7266cf6ce",
        "colab": {
          "base_uri": "https://localhost:8080/",
          "height": 34
        }
      },
      "source": [
        "def sequential_search(data,key):\n",
        "  pos = 0\n",
        "  found = False                    #將變量found初始化為false\n",
        "  while pos < len(data) and not found:\n",
        "    if data[pos] == key:\n",
        "      found = True                 #在找到時將found變為true\n",
        "    else:\n",
        "      pos = pos+1\n",
        "  return found\n",
        "\t\n",
        "testlist = [ 20, 31, 50, 17, 16, 36, 19, 8]\n",
        "#print(sequential_search(testlist, 3))\n",
        "print(sequential_search(testlist, 5))"
      ],
      "execution_count": 29,
      "outputs": [
        {
          "output_type": "stream",
          "text": [
            "False\n"
          ],
          "name": "stdout"
        }
      ]
    }
  ]
}