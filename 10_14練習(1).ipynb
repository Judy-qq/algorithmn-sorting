{
  "nbformat": 4,
  "nbformat_minor": 0,
  "metadata": {
    "colab": {
      "name": "10/14練習(1).ipynb",
      "provenance": [],
      "authorship_tag": "ABX9TyOS/WattwDCUUjJxuptVAKV",
      "include_colab_link": true
    },
    "kernelspec": {
      "name": "python3",
      "display_name": "Python 3"
    }
  },
  "cells": [
    {
      "cell_type": "markdown",
      "metadata": {
        "id": "view-in-github",
        "colab_type": "text"
      },
      "source": [
        "<a href=\"https://colab.research.google.com/github/Judy-qq/algorithmn-sorting/blob/master/10_14%E7%B7%B4%E7%BF%92(1).ipynb\" target=\"_parent\"><img src=\"https://colab.research.google.com/assets/colab-badge.svg\" alt=\"Open In Colab\"/></a>"
      ]
    },
    {
      "cell_type": "code",
      "metadata": {
        "id": "CWXSVohoxD8Q",
        "outputId": "1b98d5cc-c8d4-4d89-f7d4-2c02660aec69",
        "colab": {
          "base_uri": "https://localhost:8080/",
          "height": 151
        }
      },
      "source": [
        "data = [ 20, 31, 50, 17, 16, 36, 19, 8] #成功......嗎?\n",
        "def sequential_search(data,key):\n",
        "  for i in data:\n",
        "    if i == key :\n",
        "      print(\"找到了\")\n",
        "      \n",
        "    elif i != key :\n",
        "      print(\"找不到\")\n",
        "      \n",
        "sequential_search(data,17)"
      ],
      "execution_count": 11,
      "outputs": [
        {
          "output_type": "stream",
          "text": [
            "找不到\n",
            "找不到\n",
            "找不到\n",
            "找到了\n",
            "找不到\n",
            "找不到\n",
            "找不到\n",
            "找不到\n"
          ],
          "name": "stdout"
        }
      ]
    },
    {
      "cell_type": "code",
      "metadata": {
        "id": "DO-u0IFW1ehr",
        "outputId": "0f702d28-cdcd-4737-c3b4-70bb62236104",
        "colab": {
          "base_uri": "https://localhost:8080/",
          "height": 230
        }
      },
      "source": [
        "data = [ 20, 31, 50, 17, 16, 36, 19, 8]  #fail(往下看)\n",
        "\n",
        "def sequential_search(data, key):\n",
        "    tmp = [0] * (len(data) + 1)    #設一個空陣列，長度為data長度+1\n",
        "    for i in range(1, len(data)):  #將data的值給到tmp\n",
        "        tmp[i] = data[i - 1]\n",
        "    tmp[0] = key                   #設定key值\n",
        "    i = len(data)                  #設定索引並開始比較\n",
        "    while tmp[i] != tmp[0]:\n",
        "        i -= 1\n",
        "    return i - 1                   #回傳索引\n",
        "\n",
        "index = sequential_search(data, 17)\n",
        "if index >= 0:\n",
        "    print(\"finde the index: \" + str(index))\n",
        "else:\n",
        "    print(\"can't find the index\")"
      ],
      "execution_count": 20,
      "outputs": [
        {
          "output_type": "error",
          "ename": "NameError",
          "evalue": "ignored",
          "traceback": [
            "\u001b[0;31m---------------------------------------------------------------------------\u001b[0m",
            "\u001b[0;31mNameError\u001b[0m                                 Traceback (most recent call last)",
            "\u001b[0;32m<ipython-input-20-9d93e9ce8c3a>\u001b[0m in \u001b[0;36m<module>\u001b[0;34m()\u001b[0m\n\u001b[1;32m     13\u001b[0m \u001b[0mindex\u001b[0m \u001b[0;34m=\u001b[0m \u001b[0msequential_search\u001b[0m\u001b[0;34m(\u001b[0m\u001b[0mdata\u001b[0m\u001b[0;34m,\u001b[0m \u001b[0;36m17\u001b[0m\u001b[0;34m)\u001b[0m\u001b[0;34m\u001b[0m\u001b[0;34m\u001b[0m\u001b[0m\n\u001b[1;32m     14\u001b[0m \u001b[0;32mif\u001b[0m \u001b[0mindex\u001b[0m \u001b[0;34m>=\u001b[0m \u001b[0;36m0\u001b[0m\u001b[0;34m:\u001b[0m\u001b[0;34m\u001b[0m\u001b[0;34m\u001b[0m\u001b[0m\n\u001b[0;32m---> 15\u001b[0;31m     \u001b[0mprint\u001b[0m\u001b[0;34m(\u001b[0m\u001b[0;34m\"finde the index: \"\u001b[0m \u001b[0;34m+\u001b[0m \u001b[0mkey\u001b[0m\u001b[0;34m)\u001b[0m\u001b[0;34m\u001b[0m\u001b[0;34m\u001b[0m\u001b[0m\n\u001b[0m\u001b[1;32m     16\u001b[0m \u001b[0;32melse\u001b[0m\u001b[0;34m:\u001b[0m\u001b[0;34m\u001b[0m\u001b[0;34m\u001b[0m\u001b[0m\n\u001b[1;32m     17\u001b[0m     \u001b[0mprint\u001b[0m\u001b[0;34m(\u001b[0m\u001b[0;34m\"can't find the index\"\u001b[0m\u001b[0;34m)\u001b[0m\u001b[0;34m\u001b[0m\u001b[0;34m\u001b[0m\u001b[0m\n",
            "\u001b[0;31mNameError\u001b[0m: name 'key' is not defined"
          ]
        }
      ]
    },
    {
      "cell_type": "code",
      "metadata": {
        "id": "3gANc5eC23t5",
        "outputId": "4a431532-0fac-4f00-8dc6-9ba7266cf6ce",
        "colab": {
          "base_uri": "https://localhost:8080/",
          "height": 34
        }
      },
      "source": [
        "def sequential_search(data,key):\n",
        "  pos = 0\n",
        "  found = False                    #將變量found初始化為false\n",
        "  while pos < len(data) and not found:\n",
        "    if data[pos] == key:\n",
        "      found = True                 #在找到時將found變為true\n",
        "    else:\n",
        "      pos = pos+1\n",
        "  return found\n",
        "\t\n",
        "testlist = [ 20, 31, 50, 17, 16, 36, 19, 8]\n",
        "#print(sequential_search(testlist, 3))\n",
        "print(sequential_search(testlist, 5))"
      ],
      "execution_count": 29,
      "outputs": [
        {
          "output_type": "stream",
          "text": [
            "False\n"
          ],
          "name": "stdout"
        }
      ]
    }
  ]
}