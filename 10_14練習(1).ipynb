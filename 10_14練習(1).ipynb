{
  "nbformat": 4,
  "nbformat_minor": 0,
  "metadata": {
    "colab": {
      "name": "10/14練習(1).ipynb",
      "provenance": [],
      "authorship_tag": "ABX9TyPCn3CYEsnLSwNuM4QtSY7e",
      "include_colab_link": true
    },
    "kernelspec": {
      "name": "python3",
      "display_name": "Python 3"
    }
  },
  "cells": [
    {
      "cell_type": "markdown",
      "metadata": {
        "id": "view-in-github",
        "colab_type": "text"
      },
      "source": [
        "<a href=\"https://colab.research.google.com/github/Judy-qq/algorithmn-sorting/blob/master/10_14%E7%B7%B4%E7%BF%92(1).ipynb\" target=\"_parent\"><img src=\"https://colab.research.google.com/assets/colab-badge.svg\" alt=\"Open In Colab\"/></a>"
      ]
    },
    {
      "cell_type": "code",
      "metadata": {
        "id": "CWXSVohoxD8Q",
        "outputId": "645f4f85-4eea-45d2-d345-eea5e3acc966",
        "colab": {
          "base_uri": "https://localhost:8080/",
          "height": 34
        }
      },
      "source": [
        "data=[20,31,50,17,16,36,19,8]\n",
        "def sequential_search(data,key):\n",
        "  for i in data:\n",
        "    if i == key :\n",
        "      print(\"找到了\")\n",
        "      break\n",
        "sequential_search(data,17)"
      ],
      "execution_count": 1,
      "outputs": [
        {
          "output_type": "stream",
          "text": [
            "找到了\n"
          ],
          "name": "stdout"
        }
      ]
    }
  ]
}