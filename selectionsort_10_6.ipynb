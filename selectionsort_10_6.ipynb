{
  "nbformat": 4,
  "nbformat_minor": 0,
  "metadata": {
    "colab": {
      "name": "selectionsort_10/6.ipynb",
      "provenance": [],
      "authorship_tag": "ABX9TyNooLmvos5vK2GZPtiDT+aK",
      "include_colab_link": true
    },
    "kernelspec": {
      "name": "python3",
      "display_name": "Python 3"
    }
  },
  "cells": [
    {
      "cell_type": "markdown",
      "metadata": {
        "id": "view-in-github",
        "colab_type": "text"
      },
      "source": [
        "<a href=\"https://colab.research.google.com/github/Judy-qq/algorithmn-sorting/blob/master/selectionsort_10_6.ipynb\" target=\"_parent\"><img src=\"https://colab.research.google.com/assets/colab-badge.svg\" alt=\"Open In Colab\"/></a>"
      ]
    },
    {
      "cell_type": "code",
      "metadata": {
        "id": "adyhBLG6RVlI",
        "outputId": "a44d8653-041e-486a-aa18-7b3d62f1f88c",
        "colab": {
          "base_uri": "https://localhost:8080/",
          "height": 585
        }
      },
      "source": [
        " def Selction_Sort(datas):\n",
        "    for i in range(len(datas)-1):#n+1\n",
        "        min = i # 第一次選從第一個數開始,第二次從第二個數開始  #1\n",
        "        for j in range(i+1, len(datas)):    # 用記錄的max數與其他的比較 #n\n",
        "            if datas[j] < datas[min]:#n\n",
        "                min = j                      #1\n",
        "#[(n+1)*n*n]+1=n^3+n^2+1\n",
        "        datas[i], datas[min] = datas[min], datas[i]\n",
        " \n",
        "        print(datas)\n",
        "        print('---'*10)\n",
        "    return datas\n",
        " \n",
        " \n",
        "if __name__ == '__main__':\n",
        "    import random\n",
        "    a = list(range(16))\n",
        "    random.shuffle(a)\n",
        "    print(a)\n",
        "    a = Selction_Sort(a)\n",
        "    print(a)"
      ],
      "execution_count": 1,
      "outputs": [
        {
          "output_type": "stream",
          "text": [
            "[3, 12, 6, 13, 10, 1, 4, 14, 9, 11, 0, 5, 15, 8, 2, 7]\n",
            "[0, 12, 6, 13, 10, 1, 4, 14, 9, 11, 3, 5, 15, 8, 2, 7]\n",
            "------------------------------\n",
            "[0, 1, 6, 13, 10, 12, 4, 14, 9, 11, 3, 5, 15, 8, 2, 7]\n",
            "------------------------------\n",
            "[0, 1, 2, 13, 10, 12, 4, 14, 9, 11, 3, 5, 15, 8, 6, 7]\n",
            "------------------------------\n",
            "[0, 1, 2, 3, 10, 12, 4, 14, 9, 11, 13, 5, 15, 8, 6, 7]\n",
            "------------------------------\n",
            "[0, 1, 2, 3, 4, 12, 10, 14, 9, 11, 13, 5, 15, 8, 6, 7]\n",
            "------------------------------\n",
            "[0, 1, 2, 3, 4, 5, 10, 14, 9, 11, 13, 12, 15, 8, 6, 7]\n",
            "------------------------------\n",
            "[0, 1, 2, 3, 4, 5, 6, 14, 9, 11, 13, 12, 15, 8, 10, 7]\n",
            "------------------------------\n",
            "[0, 1, 2, 3, 4, 5, 6, 7, 9, 11, 13, 12, 15, 8, 10, 14]\n",
            "------------------------------\n",
            "[0, 1, 2, 3, 4, 5, 6, 7, 8, 11, 13, 12, 15, 9, 10, 14]\n",
            "------------------------------\n",
            "[0, 1, 2, 3, 4, 5, 6, 7, 8, 9, 13, 12, 15, 11, 10, 14]\n",
            "------------------------------\n",
            "[0, 1, 2, 3, 4, 5, 6, 7, 8, 9, 10, 12, 15, 11, 13, 14]\n",
            "------------------------------\n",
            "[0, 1, 2, 3, 4, 5, 6, 7, 8, 9, 10, 11, 15, 12, 13, 14]\n",
            "------------------------------\n",
            "[0, 1, 2, 3, 4, 5, 6, 7, 8, 9, 10, 11, 12, 15, 13, 14]\n",
            "------------------------------\n",
            "[0, 1, 2, 3, 4, 5, 6, 7, 8, 9, 10, 11, 12, 13, 15, 14]\n",
            "------------------------------\n",
            "[0, 1, 2, 3, 4, 5, 6, 7, 8, 9, 10, 11, 12, 13, 14, 15]\n",
            "------------------------------\n",
            "[0, 1, 2, 3, 4, 5, 6, 7, 8, 9, 10, 11, 12, 13, 14, 15]\n"
          ],
          "name": "stdout"
        }
      ]
    }
  ]
}