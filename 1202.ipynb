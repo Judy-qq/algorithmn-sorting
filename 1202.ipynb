{
  "nbformat": 4,
  "nbformat_minor": 0,
  "metadata": {
    "colab": {
      "name": "1202.ipynb",
      "provenance": [],
      "collapsed_sections": [],
      "authorship_tag": "ABX9TyMjRhm9AZToPCYktaMXSjay",
      "include_colab_link": true
    },
    "kernelspec": {
      "name": "python3",
      "display_name": "Python 3"
    }
  },
  "cells": [
    {
      "cell_type": "markdown",
      "metadata": {
        "id": "view-in-github",
        "colab_type": "text"
      },
      "source": [
        "<a href=\"https://colab.research.google.com/github/Judy-qq/algorithmn-sorting/blob/master/1202.ipynb\" target=\"_parent\"><img src=\"https://colab.research.google.com/assets/colab-badge.svg\" alt=\"Open In Colab\"/></a>"
      ]
    },
    {
      "cell_type": "code",
      "metadata": {
        "colab": {
          "base_uri": "https://localhost:8080/"
        },
        "id": "viY89gh7I2yX",
        "outputId": "bb1b7177-6a07-4988-ab1f-451fa391819f"
      },
      "source": [
        "#錢幣原式\n",
        "t=[25,20,5,1]\n",
        "\n",
        "def change(t, n):\n",
        "\n",
        "  m=[0 for _ in range(len(t))]\n",
        "  for i, money in enumerate(t):\n",
        "    m[i] = n // money\n",
        "    n = n % money\n",
        "    return m, n   #這樣迴圈只會計算一次\n",
        "\n",
        "print(change(t,41))"
      ],
      "execution_count": null,
      "outputs": [
        {
          "output_type": "stream",
          "text": [
            "([1, 0, 0, 0], 16)\n"
          ],
          "name": "stdout"
        }
      ]
    },
    {
      "cell_type": "code",
      "metadata": {
        "colab": {
          "base_uri": "https://localhost:8080/"
        },
        "id": "Hr3Lq5LUOOcu",
        "outputId": "1f6f5ca8-1c3f-4734-d2d2-92a962025506"
      },
      "source": [
        "#錢幣貪婪法解答\n",
        "t=[25,20,5,1]\n",
        "\n",
        "def change(t, n):\n",
        "\n",
        "  m=[0 for _ in range(len(t))]\n",
        "  for i, money in enumerate(t):\n",
        "    m[i] = n // money\n",
        "    n = n % money\n",
        "  return m, n           #差異在於將return拉出變成for迴圈的循環部分\n",
        "\n",
        "cc=int(input(\"請輸入金額：\"))\n",
        "print(change(t,cc))"
      ],
      "execution_count": null,
      "outputs": [
        {
          "output_type": "stream",
          "text": [
            "請輸入金額：41\n",
            "([1, 0, 3, 1], 0)\n"
          ],
          "name": "stdout"
        }
      ]
    },
    {
      "cell_type": "code",
      "metadata": {
        "colab": {
          "base_uri": "https://localhost:8080/"
        },
        "id": "SmvfnwGqRo_L",
        "outputId": "46388cda-0fe6-4279-8ff9-37139176a192"
      },
      "source": [
        "#錢幣DP解答\n",
        "V = 41\t\t\t\t# 金額\n",
        "n = 4 \t\t\t\t# 貨幣種類的數量\n",
        "coinValue = [25,20,5,1]  # 貨幣的種類\n",
        "\n",
        "\n",
        "# 創造一個有 V+1 個物件的list(從-1開始算)\n",
        "memo = [-1 for x in range(V+1)] \n",
        "\n",
        "\n",
        "# recursion conditions:\n",
        "# 1- change(0) = 0 -> is needed 0 coins to change 0 cents\n",
        "# 2- change(< 0) = inf -> this change is too mmuch \n",
        "# 3- change(value) = 1 + min(change(value - coinValue[i])) for i in range(n-1)\n",
        "\n",
        "\n",
        "def change(value):\n",
        "\tif memo[value] != -1:\t\t\t# checking if already pass by this state \n",
        "\t\treturn memo[value]\n",
        "\n",
        "\tif value == 0: \t\t\t\t\t# recursion condition 1\n",
        "\t\treturn 0\n",
        "\n",
        "\tif value < 0:\t\t\t\t\t#recursion condition 2\n",
        "\t\treturn float('inf')\n",
        "\n",
        "\tans = float('inf')\n",
        "\n",
        "\tfor i in range(n):\t\t\t# recursion condition 3\n",
        "\t\tans = min(1 + change(value - coinValue[i]), ans)\n",
        "\n",
        "\tmemo[value] = ans\n",
        "\treturn ans\n",
        "\n",
        "\n",
        "\n",
        "print(change(V))"
      ],
      "execution_count": 4,
      "outputs": [
        {
          "output_type": "stream",
          "text": [
            "3\n"
          ],
          "name": "stdout"
        }
      ]
    },
    {
      "cell_type": "code",
      "metadata": {
        "id": "wWgNtvU4RN2k",
        "colab": {
          "base_uri": "https://localhost:8080/"
        },
        "outputId": "247010f4-a6e7-4b1b-93b7-df2b0d2eced6"
      },
      "source": [
        "#背包貪婪法解答\n",
        "import numpy as np\n",
        "\n",
        "def Initial():\n",
        "\t'''确定物品重量、價值和背包總重量'''\n",
        "\toption = input('是否選擇使用默認數據（Y/N）: ')\n",
        "\tif option == 'Y':\n",
        "\t\tweight = [5,1,4,3,2]\n",
        "\t\tprice = [17000,35000,60000,9000,20000]\n",
        "\t\tC = 10\n",
        "\telse:\n",
        "\t\tweight = list(map(int, input('请輸入物品重量，用空格分開：').split( )))\n",
        "\t\tprice = list(map(int, input('请输入相應的物品價值，用空格分開： ').split( )))\n",
        "\t\tC = int(input('请輸入背包總重量限制： '))\n",
        "\titem = list(zip(weight,price))\n",
        "\tprint('重量，價值：' + item.__str__() + '\\n總重量限制：' + C.__str__())\n",
        "\treturn item, C\n",
        "\n",
        "def Price(item):\n",
        "\t'''選價值最大的物品'''\t\n",
        "\tdata = np.array(item)\n",
        "\tidex = np.lexsort([data[:,0], -1*data[:,1]])\n",
        "\treturn idex\n",
        "\n",
        "def GreedyAlgo(item, C, idex):\n",
        "\t'''貪心算法'''\n",
        "\tnumber = len(item)\n",
        "\tstatus = [0] * number\n",
        "\ttotal_weight = 0\n",
        "\ttotal_value = 0\n",
        "\tfor i in range(number):\n",
        "\t\tif item[idex[i],0] <= C:\n",
        "\t\t\ttotal_weight += item[idex[i],0]\n",
        "\t\t\ttotal_value += item[idex[i],1]\n",
        "\t\t\tstatus[idex[i]] = 1\n",
        "\t\t\tC -= item[idex[i],0]\n",
        "\t\telse:\n",
        "\t\t\tcontinue\n",
        "\treturn total_weight, total_value, status\n",
        "\n",
        "Initial()\n"
      ],
      "execution_count": 8,
      "outputs": [
        {
          "output_type": "stream",
          "text": [
            "是否選擇使用默認數據（Y/N）: Y\n",
            "重量，價值：[(5, 17000), (1, 35000), (4, 60000), (3, 9000), (2, 20000)]\n",
            "總重量限制：10\n"
          ],
          "name": "stdout"
        },
        {
          "output_type": "execute_result",
          "data": {
            "text/plain": [
              "([(5, 17000), (1, 35000), (4, 60000), (3, 9000), (2, 20000)], 10)"
            ]
          },
          "metadata": {
            "tags": []
          },
          "execution_count": 8
        }
      ]
    },
    {
      "cell_type": "code",
      "metadata": {
        "colab": {
          "base_uri": "https://localhost:8080/"
        },
        "id": "gthITkjuiMnj",
        "outputId": "f9032a6e-fd17-4977-ba8f-0887fce250cb"
      },
      "source": [
        "#背包DP解答\r\n",
        "def bag(n,c,w,v):\r\n",
        "\tres=[[-1 for j in range(c+1)] for i in range(n+1)]\r\n",
        "\tfor j in range(c+1):\r\n",
        "\t\tres[0][j]=0\r\n",
        "\tfor i in range(1,n+1):\r\n",
        "\t\tfor j in range(1,c+1):\r\n",
        "\t\t\tres[i][j]=res[i-1][j]\r\n",
        "\t\t\tif j>=w[i-1] and res[i][j]<res[i-1][j-w[i-1]]+v[i-1]:\r\n",
        "\t\t\t\tres[i][j]=res[i-1][j-w[i-1]]+v[i-1]\r\n",
        "\treturn res\r\n",
        "\r\n",
        "def show(n,c,w,res):\r\n",
        "\tprint('最大價值為:',res[n][c])\r\n",
        "\tx=[False for i in range(n)]\r\n",
        "\tj=c\r\n",
        "\tfor i in range(1,n+1):\r\n",
        "\t\tif res[i][j]>res[i-1][j]:\r\n",
        "\t\t\tx[i-1]=True\r\n",
        "\t\t\tj-=w[i-1]\r\n",
        "\tprint('選擇的物品為:')\r\n",
        "\tfor i in range(n):\r\n",
        "\t\tif x[i]:\r\n",
        "\t\t\tprint('第',i,'個,',end='')    #在陣列中的第i個，所以會有第0個\r\n",
        "\tprint('')\r\n",
        "\r\n",
        "if __name__=='__main__':\r\n",
        "\tn=5\r\n",
        "\tc=10\r\n",
        "\tw=[5,1,4,3,2]\r\n",
        "\tv=[17000,35000,60000,9000,20000]\r\n",
        "\tres=bag(n,c,w,v)\r\n",
        "\tshow(n,c,w,res)"
      ],
      "execution_count": 3,
      "outputs": [
        {
          "output_type": "stream",
          "text": [
            "最大價值為: 123999\n",
            "選擇的物品為:\n",
            "第 0 個,第 1 個,第 2 個,\n"
          ],
          "name": "stdout"
        }
      ]
    }
  ]
}