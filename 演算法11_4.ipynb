{
  "nbformat": 4,
  "nbformat_minor": 0,
  "metadata": {
    "colab": {
      "name": "演算法11/4.ipynb",
      "provenance": [],
      "authorship_tag": "ABX9TyO73o3ejunnb1L8GGUSb2RM",
      "include_colab_link": true
    },
    "kernelspec": {
      "name": "python3",
      "display_name": "Python 3"
    }
  },
  "cells": [
    {
      "cell_type": "markdown",
      "metadata": {
        "id": "view-in-github",
        "colab_type": "text"
      },
      "source": [
        "<a href=\"https://colab.research.google.com/github/Judy-qq/algorithmn-sorting/blob/master/%E6%BC%94%E7%AE%97%E6%B3%9511_4.ipynb\" target=\"_parent\"><img src=\"https://colab.research.google.com/assets/colab-badge.svg\" alt=\"Open In Colab\"/></a>"
      ]
    },
    {
      "cell_type": "code",
      "metadata": {
        "id": "SA6PE6dGERL-",
        "outputId": "7bd4125d-fe27-4f26-fff2-8760a05ac4ab",
        "colab": {
          "base_uri": "https://localhost:8080/"
        }
      },
      "source": [
        "from random import randint    #用Python設計一個終極密碼\n",
        "\n",
        "lowest = 1\n",
        "highest = 100\n",
        "answer = randint(lowest, highest)\n",
        "\n",
        "while True:\n",
        "  guess = input('密碼介於 ' + str(lowest) + '-' + str(highest) + ':\\n>>')\n",
        "  try:\n",
        "    guess = int(guess)\n",
        "  except ValueError:\n",
        "    print('格式錯誤，請輸入數字\\n')\n",
        "    continue\n",
        "  if guess <= lowest or guess >= highest:\n",
        "    print('請輸入 ' + str(lowest) + '-' + str(highest) + ' 之間的整數\\n')\n",
        "    continue\n",
        "  if guess == answer:\n",
        "    print('答對了！')\n",
        "    break\n",
        "  elif guess < answer:\n",
        "    lowest = guess\n",
        "  else:\n",
        "    highest = guess"
      ],
      "execution_count": 6,
      "outputs": [
        {
          "output_type": "stream",
          "text": [
            "密碼介於 1-100:\n",
            ">>60\n",
            "密碼介於 1-60:\n",
            ">>30\n",
            "密碼介於 30-60:\n",
            ">>50\n",
            "密碼介於 30-50:\n",
            ">>37\n",
            "密碼介於 37-50:\n",
            ">>40\n",
            "密碼介於 37-40:\n",
            ">>38\n",
            "密碼介於 38-40:\n",
            ">>39\n",
            "答對了！\n"
          ],
          "name": "stdout"
        }
      ]
    },
    {
      "cell_type": "code",
      "metadata": {
        "id": "LSo1aXJpGh1X",
        "outputId": "5910fac1-c773-4626-f2b7-18e0658a918e",
        "colab": {
          "base_uri": "https://localhost:8080/"
        }
      },
      "source": [
        "#河內塔1\n",
        "def hanoi(n, A, B, C):\n",
        "  if n == 1:\n",
        "    return [(A, C)]\n",
        "  else:\n",
        "    return hanoi(n-1, A, C, B) + hanoi(1, A, B, C) + hanoi(n-1, B, A, C)\n",
        "\n",
        "n = input(\"請輸入整數：\")\n",
        "for move in hanoi(int(n), 'A', 'B', 'C'):\n",
        "  print(\"盤由 %c 移至 %c\" % move)"
      ],
      "execution_count": 2,
      "outputs": [
        {
          "output_type": "stream",
          "text": [
            "請輸入整數：3\n",
            "盤由 A 移至 C\n",
            "盤由 A 移至 B\n",
            "盤由 C 移至 B\n",
            "盤由 A 移至 C\n",
            "盤由 B 移至 A\n",
            "盤由 B 移至 C\n",
            "盤由 A 移至 C\n"
          ],
          "name": "stdout"
        }
      ]
    },
    {
      "cell_type": "code",
      "metadata": {
        "id": "eSYGUHJJHxe1",
        "outputId": "dcb7cf19-d2a5-4070-b603-6af8293c6bc3",
        "colab": {
          "base_uri": "https://localhost:8080/"
        }
      },
      "source": [
        "#河內塔2\n",
        "step = 0\n",
        "\n",
        "\n",
        "def fanta(n, a, b, c):   # n用于接收是几层的,abc表示三根柱子,圆盘序号从上到下累加\n",
        "    global step\n",
        "    if n == 1:\n",
        "      step += 1\n",
        "      print(\"对{}号圆盘的操作：{} --> {}\".format(1, a, c)+\"執行次數：%d\"%step)\n",
        "    else:\n",
        "      fanta(n-1, a, c, b)\n",
        "      step += 1\n",
        "      print(\"对{}号圆盘的操作：{} --> {}\".format(n, a, c)+\"執行次數：%d\"%step)\n",
        "      fanta(n-1, b, a, c)\n",
        "\n",
        "\n",
        "x = int(input(\"请输入圆盘个数： \"))\n",
        "fanta(x, \"A\", \"B\", \"C\")\n",
        "print(\"完成操作共计{}步\".format(step))"
      ],
      "execution_count": 15,
      "outputs": [
        {
          "output_type": "stream",
          "text": [
            "请输入圆盘个数： 5\n",
            "对1号圆盘的操作：A --> C執行次數：1\n",
            "对2号圆盘的操作：A --> B執行次數：2\n",
            "对1号圆盘的操作：C --> B執行次數：3\n",
            "对3号圆盘的操作：A --> C執行次數：4\n",
            "对1号圆盘的操作：B --> A執行次數：5\n",
            "对2号圆盘的操作：B --> C執行次數：6\n",
            "对1号圆盘的操作：A --> C執行次數：7\n",
            "对4号圆盘的操作：A --> B執行次數：8\n",
            "对1号圆盘的操作：C --> B執行次數：9\n",
            "对2号圆盘的操作：C --> A執行次數：10\n",
            "对1号圆盘的操作：B --> A執行次數：11\n",
            "对3号圆盘的操作：C --> B執行次數：12\n",
            "对1号圆盘的操作：A --> C執行次數：13\n",
            "对2号圆盘的操作：A --> B執行次數：14\n",
            "对1号圆盘的操作：C --> B執行次數：15\n",
            "对5号圆盘的操作：A --> C執行次數：16\n",
            "对1号圆盘的操作：B --> A執行次數：17\n",
            "对2号圆盘的操作：B --> C執行次數：18\n",
            "对1号圆盘的操作：A --> C執行次數：19\n",
            "对3号圆盘的操作：B --> A執行次數：20\n",
            "对1号圆盘的操作：C --> B執行次數：21\n",
            "对2号圆盘的操作：C --> A執行次數：22\n",
            "对1号圆盘的操作：B --> A執行次數：23\n",
            "对4号圆盘的操作：B --> C執行次數：24\n",
            "对1号圆盘的操作：A --> C執行次數：25\n",
            "对2号圆盘的操作：A --> B執行次數：26\n",
            "对1号圆盘的操作：C --> B執行次數：27\n",
            "对3号圆盘的操作：A --> C執行次數：28\n",
            "对1号圆盘的操作：B --> A執行次數：29\n",
            "对2号圆盘的操作：B --> C執行次數：30\n",
            "对1号圆盘的操作：A --> C執行次數：31\n",
            "完成操作共计31步\n"
          ],
          "name": "stdout"
        }
      ]
    }
  ]
}