{
  "nbformat": 4,
  "nbformat_minor": 0,
  "metadata": {
    "colab": {
      "name": "10/14練習(1).ipynb",
      "provenance": [],
      "authorship_tag": "ABX9TyOnYDzTvCciJ3qIyi+P7dxS",
      "include_colab_link": true
    },
    "kernelspec": {
      "name": "python3",
      "display_name": "Python 3"
    }
  },
  "cells": [
    {
      "cell_type": "markdown",
      "metadata": {
        "id": "view-in-github",
        "colab_type": "text"
      },
      "source": [
        "<a href=\"https://colab.research.google.com/github/Judy-qq/algorithmn-sorting/blob/master/10_14%E7%B7%B4%E7%BF%92(sequential_search).ipynb\" target=\"_parent\"><img src=\"https://colab.research.google.com/assets/colab-badge.svg\" alt=\"Open In Colab\"/></a>"
      ]
    },
    {
      "cell_type": "code",
      "metadata": {
        "id": "CWXSVohoxD8Q",
        "outputId": "677e977d-4309-494b-c0c6-772c11ad84f3",
        "colab": {
          "base_uri": "https://localhost:8080/",
          "height": 151
        }
      },
      "source": [
        "data = [ 20, 31, 50, 17, 16, 36, 19, 8] #成功......嗎?\n",
        "def sequential_search(data,key):\n",
        "  for i in data:\n",
        "    if i == key :\n",
        "      print(\"找到了\")\n",
        "      \n",
        "    elif i != key :\n",
        "      print(\"找不到\")\n",
        "                          #他會一個個比對然後列出結果\n",
        "sequential_search(data,17)"
      ],
      "execution_count": 31,
      "outputs": [
        {
          "output_type": "stream",
          "text": [
            "找不到\n",
            "找不到\n",
            "找不到\n",
            "找到了\n",
            "找不到\n",
            "找不到\n",
            "找不到\n",
            "找不到\n"
          ],
          "name": "stdout"
        }
      ]
    },
    {
      "cell_type": "code",
      "metadata": {
        "id": "3gANc5eC23t5",
        "outputId": "4a431532-0fac-4f00-8dc6-9ba7266cf6ce",
        "colab": {
          "base_uri": "https://localhost:8080/",
          "height": 34
        }
      },
      "source": [
        "def sequential_search(data,key):\n",
        "  pos = 0\n",
        "  found = False                    #將變量found初始化為False\n",
        "  while pos < len(data) and not found:\n",
        "    if data[pos] == key:\n",
        "      found = True                 #在找到時將found變為true\n",
        "    else:\n",
        "      pos = pos+1                 \n",
        "  return found                     #找不到就是False\n",
        "\t\n",
        "testlist = [ 20, 31, 50, 17, 16, 36, 19, 8]\n",
        "#print(sequential_search(testlist, 3))\n",
        "print(sequential_search(testlist, 5))"
      ],
      "execution_count": 29,
      "outputs": [
        {
          "output_type": "stream",
          "text": [
            "False\n"
          ],
          "name": "stdout"
        }
      ]
    }
  ]
}