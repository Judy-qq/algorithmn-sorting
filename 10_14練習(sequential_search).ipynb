{
  "nbformat": 4,
  "nbformat_minor": 0,
  "metadata": {
    "colab": {
      "name": "10/14練習(1).ipynb",
      "provenance": [],
      "authorship_tag": "ABX9TyN3ifrokUSVKP12cb3+vq8a",
      "include_colab_link": true
    },
    "kernelspec": {
      "name": "python3",
      "display_name": "Python 3"
    }
  },
  "cells": [
    {
      "cell_type": "markdown",
      "metadata": {
        "id": "view-in-github",
        "colab_type": "text"
      },
      "source": [
        "<a href=\"https://colab.research.google.com/github/Judy-qq/algorithmn-sorting/blob/master/10_14%E7%B7%B4%E7%BF%92(sequential_search).ipynb\" target=\"_parent\"><img src=\"https://colab.research.google.com/assets/colab-badge.svg\" alt=\"Open In Colab\"/></a>"
      ]
    },
    {
      "cell_type": "code",
      "metadata": {
        "id": "CWXSVohoxD8Q",
        "outputId": "9ee87a37-dcc8-4d01-bc2f-72b2610e13f4",
        "colab": {
          "base_uri": "https://localhost:8080/",
          "height": 34
        }
      },
      "source": [
        "data = [ 20, 31, 50, 17, 16, 36, 19, 8] \n",
        "def sequential_search(data,key):\n",
        "  for i in data:\n",
        "    if i == key :\n",
        "      print(\"找到了\")\n",
        "      break                 #如果找到就停\n",
        "  else:\n",
        "    print(\"找不到\")\n",
        "                          #上面找不到的話就用else說找不到\n",
        "sequential_search(data,17)"
      ],
      "execution_count": 5,
      "outputs": [
        {
          "output_type": "stream",
          "text": [
            "找到了\n"
          ],
          "name": "stdout"
        }
      ]
    },
    {
      "cell_type": "code",
      "metadata": {
        "id": "3gANc5eC23t5",
        "outputId": "4a431532-0fac-4f00-8dc6-9ba7266cf6ce",
        "colab": {
          "base_uri": "https://localhost:8080/",
          "height": 34
        }
      },
      "source": [
        "def sequential_search(data,key):\n",
        "  pos = 0\n",
        "  found = False                    #將變量found初始化為False\n",
        "  while pos < len(data) and not found:\n",
        "    if data[pos] == key:\n",
        "      found = True                 #在找到時將found變為true\n",
        "    else:\n",
        "      pos = pos+1                 \n",
        "  return found                     #找不到就是False\n",
        "\t\n",
        "testlist = [ 20, 31, 50, 17, 16, 36, 19, 8]\n",
        "#print(sequential_search(testlist, 3))\n",
        "print(sequential_search(testlist, 5))"
      ],
      "execution_count": null,
      "outputs": [
        {
          "output_type": "stream",
          "text": [
            "False\n"
          ],
          "name": "stdout"
        }
      ]
    }
  ]
}